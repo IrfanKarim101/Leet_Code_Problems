{
 "cells": [
  {
   "cell_type": "code",
   "execution_count": 3,
   "metadata": {},
   "outputs": [
    {
     "name": "stdout",
     "output_type": "stream",
     "text": [
      "Input: [1, 2, 3, 1] => Contains Duplicate: True\n",
      "Input: [1, 2, 3, 4] => Contains Duplicate: False\n",
      "Input: [1, 1, 1, 1] => Contains Duplicate: True\n",
      "Input: [5, 6, 7, 8, 9] => Contains Duplicate: False\n",
      "Input: [] => Contains Duplicate: False\n",
      "Input: [10, 20, 30, 10] => Contains Duplicate: True\n"
     ]
    }
   ],
   "source": [
    "# Given an integer array nums, return true if any value appears \n",
    "# at least twice in the array, and return false if every element is distinct.\n",
    "from typing import List\n",
    "\n",
    "\n",
    "class Solution:\n",
    "    def containsDuplicate(self, nums: List[int]) -> bool:\n",
    "        seen = set()\n",
    "        for num in nums:\n",
    "            if num in seen:\n",
    "                return True\n",
    "            seen.add(num)\n",
    "        return False\n",
    "    \n",
    "    \n",
    "solution=Solution()\n",
    "\n",
    "# Test cases\n",
    "test_cases = [\n",
    "    [1, 2, 3, 1],  # Should return True (1 is duplicated)\n",
    "    [1, 2, 3, 4],  # Should return False (no duplicates)\n",
    "    [1, 1, 1, 1],  # Should return True (1 is duplicated)\n",
    "    [5, 6, 7, 8, 9],  # Should return False (no duplicates)\n",
    "    [],  # Should return False (empty list)\n",
    "    [10, 20, 30, 10]  # Should return True (10 is duplicated)\n",
    "]\n",
    "\n",
    "# Print the output for each test case\n",
    "for nums in test_cases:\n",
    "    result = solution.containsDuplicate(nums)\n",
    "    print(f\"Input: {nums} => Contains Duplicate: {result}\")\n"
   ]
  }
 ],
 "metadata": {
  "kernelspec": {
   "display_name": "Python 3",
   "language": "python",
   "name": "python3"
  },
  "language_info": {
   "codemirror_mode": {
    "name": "ipython",
    "version": 3
   },
   "file_extension": ".py",
   "mimetype": "text/x-python",
   "name": "python",
   "nbconvert_exporter": "python",
   "pygments_lexer": "ipython3",
   "version": "3.12.6"
  }
 },
 "nbformat": 4,
 "nbformat_minor": 2
}
